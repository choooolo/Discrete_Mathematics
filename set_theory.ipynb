{
 "cells": [
  {
   "cell_type": "code",
   "execution_count": 7,
   "id": "351d62ab-757e-480b-a748-cb534a5aea60",
   "metadata": {},
   "outputs": [],
   "source": [
    "from matplotlib_venn import venn2, venn2_circles, venn2_unweighted,  venn3_unweighted\n",
    "from matplotlib_venn import venn3, venn3_circles\n",
    "from IPython.display import display, Latex, Math\n",
    "import matplotlib.pyplot as plt\n",
    "import pandas as pd\n",
    "%matplotlib inline"
   ]
  },
  {
   "cell_type": "code",
   "execution_count": 8,
   "id": "78deb168-8562-46d8-a0a0-0b7e919a61e8",
   "metadata": {},
   "outputs": [],
   "source": [
    "def drawVenn2(A,B,labels = ('A', 'B')):\n",
    "    '''\n",
    "    listing elements in Venn diagram of two sets\n",
    "    '''\n",
    "    v2=venn2([A,B],set_labels = labels);\n",
    "    v2.get_label_by_id('01').set_text(', '.join(map(str,B-A)))\n",
    "    v2.get_label_by_id('10').set_text(', '.join(map(str,A-B)))\n",
    "    if A&B:\n",
    "        v2.get_label_by_id('11').set_text(', '.join(map(str,A&B)))"
   ]
  },
  {
   "cell_type": "code",
   "execution_count": 116,
   "id": "70ad03e6-a8d8-42af-a4a6-19d95acec648",
   "metadata": {},
   "outputs": [
    {
     "data": {
      "text/markdown": [
       "<p style='font-family: Times New Roman; font-size: 40px; color: red; text-align: center;'>Vince Jon M. Gonzalez</p>"
      ],
      "text/plain": [
       "<IPython.core.display.Markdown object>"
      ]
     },
     "metadata": {},
     "output_type": "display_data"
    },
    {
     "data": {
      "text/markdown": [
       "<p style='font-family: Times New Roman; font-size: 20px; color: black; text-align: center;'>Discrete Math Assignment 1.1</p>"
      ],
      "text/plain": [
       "<IPython.core.display.Markdown object>"
      ]
     },
     "metadata": {},
     "output_type": "display_data"
    },
    {
     "data": {
      "text/markdown": [
       "<p style='font-family: Times New Roman; font-size: 20px; color: black; text-align: center;'>CIS 1103 Grp 6 3:00-4:30 (TTH)</p>"
      ],
      "text/plain": [
       "<IPython.core.display.Markdown object>"
      ]
     },
     "metadata": {},
     "output_type": "display_data"
    },
    {
     "data": {
      "text/markdown": [
       "<p style='font-family: Times New Roman; font-size: 20px; color: black; text-align: center;'>Gerard Ompad</p>"
      ],
      "text/plain": [
       "<IPython.core.display.Markdown object>"
      ]
     },
     "metadata": {},
     "output_type": "display_data"
    },
    {
     "data": {
      "text/markdown": [
       "<p style='font-family: Times New Roman; font-size: 10px; color: black; text-align: center;'>Submitted to</p>"
      ],
      "text/plain": [
       "<IPython.core.display.Markdown object>"
      ]
     },
     "metadata": {},
     "output_type": "display_data"
    }
   ],
   "source": [
    "def drawVenn3(A,B,C,labels = ('A', 'B', 'C')):\n",
    "    '''\n",
    "    listing elements in Venn diagram of three sets, A, B, C\n",
    "    '''\n",
    "    v3=venn3([A,B,C],set_labels = labels);\n",
    "    if A-B-C:\n",
    "        v3.get_label_by_id('100').set_text('\\n'.join(map(str,A-B-C)))\n",
    "        v3.get_patch_by_id('100').set_alpha(0.6)\n",
    "        v3.get_patch_by_id('100').set_facecolor('Blue')\n",
    "    if A&B-C:\n",
    "        v3.get_label_by_id('110').set_text('\\n'.join(map(str,A&B-C)))\n",
    "        v3.get_patch_by_id('110').set_alpha(0.3)\n",
    "        v3.get_patch_by_id('110').set_facecolor('Yellow')\n",
    "    if B-C-A:\n",
    "        v3.get_label_by_id('010').set_text('\\n'.join(map(str,B-C-A)))\n",
    "        v3.get_patch_by_id('010').set_alpha(0.6)\n",
    "        v3.get_patch_by_id('010').set_facecolor('Green')\n",
    "    if A&C-B:\n",
    "        v3.get_label_by_id('101').set_text('\\n'.join(map(str,A&C-B)))\n",
    "        v3.get_patch_by_id('101').set_alpha(0.3)\n",
    "        v3.get_patch_by_id('101').set_facecolor('Purple')\n",
    "    if A&B&C:\n",
    "        v3.get_label_by_id('111').set_text('\\n'.join(map(str,A&B&C)))\n",
    "        v3.get_patch_by_id('111').set_alpha(0.1)\n",
    "        v3.get_patch_by_id('111').set_facecolor('Pink')\n",
    "    if B&C-A:\n",
    "        v3.get_label_by_id('011').set_text('\\n'.join(map(str,B&C-A)))\n",
    "        v3.get_patch_by_id('011').set_alpha(0.3)\n",
    "        v3.get_patch_by_id('011').set_facecolor('Brown')\n",
    "    if C-B-A:\n",
    "        v3.get_label_by_id('001').set_text('\\n'.join(map(str,C-B-A)))\n",
    "        v3.get_patch_by_id('001').set_alpha(0.6)\n",
    "        v3.get_patch_by_id('001').set_facecolor('Gold')\n",
    "\n",
    "from IPython.display import Markdown, display\n",
    "\n",
    "name = \"Vince Jon M. Gonzalez\"\n",
    "subject = \"Discrete Math Assignment 1.1\"\n",
    "group_schedule = \"CIS 1103 Grp 6 3:00-4:30 (TTH)\"\n",
    "teacher_name = \"Gerard Ompad\"\n",
    "submitting_to = \"Submitted to\"\n",
    "\n",
    "styled_name = f\"<p style='font-family: Times New Roman; font-size: 40px; color: red; text-align: center;'>{name}</p>\"\n",
    "styled_subject = f\"<p style='font-family: Times New Roman; font-size: 20px; color: black; text-align: center;'>{subject}</p>\"\n",
    "styled_group_schedule = f\"<p style='font-family: Times New Roman; font-size: 20px; color: black; text-align: center;'>{group_schedule}</p>\"\n",
    "styled_teacher_name = f\"<p style='font-family: Times New Roman; font-size: 20px; color: black; text-align: center;'>{teacher_name}</p>\"\n",
    "styled_submitting_to = f\"<p style='font-family: Times New Roman; font-size: 10px; color: black; text-align: center;'>{submitting_to}</p>\"\n",
    "\n",
    "display(Markdown(styled_name))\n",
    "display(Markdown(styled_subject))\n",
    "display(Markdown(styled_group_schedule))\n",
    "display(Markdown(styled_teacher_name))\n",
    "display(Markdown(styled_submitting_to))\n",
    "\n"
   ]
  },
  {
   "cell_type": "markdown",
   "id": "9975c582-3a8c-476c-8ac6-945f0bebd4a7",
   "metadata": {},
   "source": [
    "<div style=\"text-align: center; font-size: 30px; font-weight: bold; color: blue;\">Proving Identities</div>\n"
   ]
  },
  {
   "cell_type": "markdown",
   "id": "730b0624-90b6-4509-b539-b04e1b896c0d",
   "metadata": {},
   "source": [
    "Given: A and B are sets, $\\exists$ x such that (x $\\in$ A $\\land$ x $\\in$ B)<br>\n",
    "Show that:\n",
    "1. A\\B = A $\\cap$ $B^{c}$ \n",
    "2. B = (B $\\cap$ A) $\\cup$ (B $\\cap$ $A^{c}$)\n",
    "3. B\\A = B $\\cap$ $A^{c}$\n",
    "4. A $\\cup$ B = A $\\cup$ (B $\\cap$ $A^{c}$)\n",
    "5. $(\\textbf{U}_{i=1}^{\\infty} A_{i}^{c})^{c}$ = $\\cap_{i=1}^{\\infty}A_{i}$\n",
    "6. |A $\\cup$ B| = |A| + |B| - |A $\\cap$ B|"
   ]
  },
  {
   "cell_type": "code",
   "execution_count": 30,
   "id": "6f480a53-bce9-4bfc-b785-41a46043ce95",
   "metadata": {},
   "outputs": [
    {
     "data": {
      "text/latex": [
       "$A$ = {1, 2, 3, 4, 5}"
      ],
      "text/plain": [
       "<IPython.core.display.Latex object>"
      ]
     },
     "metadata": {},
     "output_type": "display_data"
    },
    {
     "data": {
      "text/latex": [
       "$B$ = {4, 5, 6, 7, 8}"
      ],
      "text/plain": [
       "<IPython.core.display.Latex object>"
      ]
     },
     "metadata": {},
     "output_type": "display_data"
    },
    {
     "data": {
      "text/latex": [
       "$A \\cup B$ = {1, 2, 3, 4, 5, 6, 7, 8}"
      ],
      "text/plain": [
       "<IPython.core.display.Latex object>"
      ]
     },
     "metadata": {},
     "output_type": "display_data"
    },
    {
     "data": {
      "text/latex": [
       "$A - B =$ {1, 2, 3, 4, 5} $-\\;$ {4, 5, 6, 7, 8}"
      ],
      "text/plain": [
       "<IPython.core.display.Latex object>"
      ]
     },
     "metadata": {},
     "output_type": "display_data"
    },
    {
     "data": {
      "text/latex": [
       "$A \\setminus B =$ {1, 2, 3}"
      ],
      "text/plain": [
       "<IPython.core.display.Latex object>"
      ]
     },
     "metadata": {},
     "output_type": "display_data"
    },
    {
     "data": {
      "text/latex": [
       "$A \\cap B^{c}$ = {1, 2, 3, 4, 5} & {1, 2, 3}"
      ],
      "text/plain": [
       "<IPython.core.display.Latex object>"
      ]
     },
     "metadata": {},
     "output_type": "display_data"
    },
    {
     "data": {
      "text/latex": [
       "$A \\cap B^{c}$ = {1, 2, 3}"
      ],
      "text/plain": [
       "<IPython.core.display.Latex object>"
      ]
     },
     "metadata": {},
     "output_type": "display_data"
    },
    {
     "data": {
      "text/latex": [
       "$\\therefore A \\setminus B = A \\cap B^{c}$: True"
      ],
      "text/plain": [
       "<IPython.core.display.Latex object>"
      ]
     },
     "metadata": {},
     "output_type": "display_data"
    }
   ],
   "source": [
    "1. ##Pythonic Solution\n",
    "from IPython.display import display, Latex\n",
    "\n",
    "def prove_identity():\n",
    "    A = {1, 2, 3, 4, 5}\n",
    "    B = {4, 5, 6, 7, 8}\n",
    "    U = A.union(B)  \n",
    "    diff = A - B\n",
    "    complements1 = U - B\n",
    "    complements2 = A.intersection(complements1)\n",
    "\n",
    "    display(Latex('$A$ = ' + str(A)))\n",
    "    display(Latex('$B$ = ' + str(B)))\n",
    "    display(Latex('$A \\\\cup B$ = ' + str(U)))\n",
    "\n",
    "    display(Latex('$A - B =$ ' + str(A) + ' $-\\\\;$ ' + str(B)))\n",
    "    display(Latex('$A \\setminus B =$ ' + str(diff)))\n",
    "    display(Latex('$A \\cap B^{c}$ = ' + str(A) + ' & ' + str(complements1)))\n",
    "    display(Latex('$A \\cap B^{c}$ = ' + str(complements2)))\n",
    "    display(Latex('$\\\\therefore A \\setminus B = A \\cap B^{c}$: ' + str(diff == complements2)))\n",
    "\n",
    "prove_identity()\n"
   ]
  },
  {
   "cell_type": "markdown",
   "id": "d10fbf5a-9fe0-4522-939b-734902300fb5",
   "metadata": {},
   "source": [
    "1. $\\forall x (x \\in A\\B \\iff x \\in A \\cap B^{c})$"
   ]
  },
  {
   "cell_type": "code",
   "execution_count": 35,
   "id": "7549ecde-65f1-48ba-8ab8-d2316af2f8d1",
   "metadata": {},
   "outputs": [
    {
     "data": {
      "text/latex": [
       "$A$ = {1, 2, 3, 4, 5}"
      ],
      "text/plain": [
       "<IPython.core.display.Latex object>"
      ]
     },
     "metadata": {},
     "output_type": "display_data"
    },
    {
     "data": {
      "text/latex": [
       "$B$ = {4, 5, 6, 7, 8}"
      ],
      "text/plain": [
       "<IPython.core.display.Latex object>"
      ]
     },
     "metadata": {},
     "output_type": "display_data"
    },
    {
     "data": {
      "text/latex": [
       "$(B \\cap A)$ = {4, 5}"
      ],
      "text/plain": [
       "<IPython.core.display.Latex object>"
      ]
     },
     "metadata": {},
     "output_type": "display_data"
    },
    {
     "data": {
      "text/latex": [
       "$(B \\cap A^{c})$ = {8, 6, 7}"
      ],
      "text/plain": [
       "<IPython.core.display.Latex object>"
      ]
     },
     "metadata": {},
     "output_type": "display_data"
    },
    {
     "data": {
      "text/latex": [
       "$(B \\cap A) \\cup (B \\cap A^{c})$ = {4, 5} | {8, 6, 7}"
      ],
      "text/plain": [
       "<IPython.core.display.Latex object>"
      ]
     },
     "metadata": {},
     "output_type": "display_data"
    },
    {
     "data": {
      "text/latex": [
       "$(B \\cap A) \\cup (B \\cap A^{c})$ = {4, 5, 6, 7, 8}"
      ],
      "text/plain": [
       "<IPython.core.display.Latex object>"
      ]
     },
     "metadata": {},
     "output_type": "display_data"
    },
    {
     "data": {
      "text/latex": [
       "$\\therefore B = (B \\cap A) \\cup (B \\cap A^{c})$: True"
      ],
      "text/plain": [
       "<IPython.core.display.Latex object>"
      ]
     },
     "metadata": {},
     "output_type": "display_data"
    }
   ],
   "source": [
    "2. #Pythonic Solution\n",
    "\n",
    "#B\n",
    "\n",
    "def prove_identity():\n",
    "    A = {1, 2, 3, 4, 5}\n",
    "    B = {4, 5, 6, 7, 8}\n",
    "    U = A.union(B)\n",
    "    var1 = B.intersection(A)\n",
    "    var2 = U-A\n",
    "    var3 = B.intersection(var2)\n",
    "    var4 = var1.union(var3)\n",
    "\n",
    "    display(Latex('$A$ = ' + str(A)))\n",
    "    display(Latex('$B$ = ' + str(B)))\n",
    "    display(Latex('$(B \\cap A)$ = ' + str(var1)))\n",
    "    display(Latex('$(B \\cap A^{c})$ = ' + str(var3)))\n",
    "    display(Latex('$(B \\cap A) \\cup (B \\cap A^{c})$ = ' + str(var1) + str(' | ') + str(var2)))\n",
    "    display(Latex('$(B \\cap A) \\cup (B \\cap A^{c})$ = ' + str(var4)))\n",
    "    \n",
    "    display(Latex('$\\\\therefore B = (B \\cap A) \\cup (B \\cap A^{c})$: ' + str(B == var4)))\n",
    "\n",
    "\n",
    "prove_identity()"
   ]
  },
  {
   "cell_type": "markdown",
   "id": "f4904537-a714-4fd6-b78d-b29686c83bef",
   "metadata": {},
   "source": [
    "2. $\\forall x (x \\in B \\iff x \\in (B \\cap A) \\cup (B \\cap A^{c})$"
   ]
  },
  {
   "cell_type": "code",
   "execution_count": 40,
   "id": "06dbdbf1-98d4-4b2e-beac-4b1f4b8747bd",
   "metadata": {},
   "outputs": [
    {
     "data": {
      "text/latex": [
       "$A =$ {1, 2, 3, 4, 5, 6}"
      ],
      "text/plain": [
       "<IPython.core.display.Latex object>"
      ]
     },
     "metadata": {},
     "output_type": "display_data"
    },
    {
     "data": {
      "text/latex": [
       "$B =$ {5, 6, 7, 8, 9, 10}"
      ],
      "text/plain": [
       "<IPython.core.display.Latex object>"
      ]
     },
     "metadata": {},
     "output_type": "display_data"
    },
    {
     "data": {
      "text/latex": [
       "$A|B$ = {1, 2, 3, 4, 5, 6, 7, 8, 9, 10}"
      ],
      "text/plain": [
       "<IPython.core.display.Latex object>"
      ]
     },
     "metadata": {},
     "output_type": "display_data"
    },
    {
     "data": {
      "text/latex": [
       "$B - A =$ {5, 6, 7, 8, 9, 10}$\\;-\\;${1, 2, 3, 4, 5, 6}"
      ],
      "text/plain": [
       "<IPython.core.display.Latex object>"
      ]
     },
     "metadata": {},
     "output_type": "display_data"
    },
    {
     "data": {
      "text/latex": [
       "$B\\A =$ {8, 9, 10, 7}"
      ],
      "text/plain": [
       "<IPython.core.display.Latex object>"
      ]
     },
     "metadata": {},
     "output_type": "display_data"
    },
    {
     "data": {
      "text/latex": [
       "$B \\cap A^{c}$ = {5, 6, 7, 8, 9, 10} & {8, 9, 10, 7}"
      ],
      "text/plain": [
       "<IPython.core.display.Latex object>"
      ]
     },
     "metadata": {},
     "output_type": "display_data"
    },
    {
     "data": {
      "text/latex": [
       "$B \\cap A^{c}$ = {8, 9, 10, 7}"
      ],
      "text/plain": [
       "<IPython.core.display.Latex object>"
      ]
     },
     "metadata": {},
     "output_type": "display_data"
    },
    {
     "data": {
      "text/latex": [
       "$\\therefore B\\A = B \\cap A^{c}$: True"
      ],
      "text/plain": [
       "<IPython.core.display.Latex object>"
      ]
     },
     "metadata": {},
     "output_type": "display_data"
    }
   ],
   "source": [
    "3. #Pythonic Solution\n",
    "\n",
    "def prove_identity():\n",
    "    A = {1, 2, 3, 4, 5, 6}\n",
    "    B = {5, 6, 7, 8, 9, 10}\n",
    "    U = A.union(B)\n",
    "    diff2 = B - A\n",
    "    complements = U-A\n",
    "    complements1 = B & complements\n",
    "\n",
    "    display(Latex('$A =$ ' + str(A)))\n",
    "    display(Latex('$B =$ ' + str(B)))\n",
    "    display(Latex('$A|B$ = ' + str(U)))\n",
    "    \n",
    "    display(Latex('$B - A =$ ' + str(B) + str('$\\;-\\;$') + str(A)))\n",
    "    display(Latex('$B\\A =$ ' + str(diff2)))\n",
    "    display(Latex('$B \\cap A^{c}$ = ' + str(B) + str(' & ') + str(complements)))\n",
    "    display(Latex('$B \\cap A^{c}$ = ' + str(complements1)))\n",
    "    \n",
    "    display(Latex('$\\\\therefore B\\A = B \\cap A^{c}$: ' + str(diff2 == complements1)))\n",
    "\n",
    "\n",
    "prove_identity()"
   ]
  },
  {
   "cell_type": "markdown",
   "id": "c30fb654-cfca-4832-91f6-79b43f100d0d",
   "metadata": {},
   "source": [
    "3. $\\forall x (x \\in B\\A \\iff x \\in B \\cap A^{c})$"
   ]
  },
  {
   "cell_type": "markdown",
   "id": "5c216dd4-fc4e-49f1-9c87-31b8e8219a57",
   "metadata": {},
   "source": [
    "4&5. #Pythonic Solution\n",
    "1. ($A \\cup B)^c = A^c \\cap B^c$)\n",
    "2. ($A \\cap B)^c = A^c \\cup B^c$)\n",
    "\n",
    "\n",
    "\n",
    "\\begin{align*}\n",
    "\\left(\\bigcup_{i=1}^{\\infty} A_i^{c}\\right)^{c} &= \\left(A_1^{c} \\cup A_2^{c} \\cup A_3^{c} \\cup \\ldots\\right)^{c} \\\\\n",
    "&= \\left(A_1^{c}\\right)^c \\cap \\left(A_2^{c}\\right)^c \\cap \\left(A_3^{c}\\right)^c \\cap \\ldots \\\\\n",
    "&= A_1 \\cap A_2 \\cap A_3 \\cap \\ldots \\\\\n",
    "&= \\bigcap_{i=1}^{\\infty} A_i\n",
    "\\end{align*}\n",
    "\n",
    "$\\therefore$\n",
    "$(\\textbf{U}_{i=1}^{\\infty} A_{i}^{c})^{c}$ = $\\cap_{i=1}^{\\infty}A_{i}$"
   ]
  },
  {
   "cell_type": "code",
   "execution_count": 41,
   "id": "5625c9e5-fe57-482e-9052-5604a347ee8c",
   "metadata": {},
   "outputs": [
    {
     "data": {
      "text/latex": [
       "$|A \\cup B|$ = 6"
      ],
      "text/plain": [
       "<IPython.core.display.Latex object>"
      ]
     },
     "metadata": {},
     "output_type": "display_data"
    },
    {
     "data": {
      "text/latex": [
       "$|A|+|B|$ = 12"
      ],
      "text/plain": [
       "<IPython.core.display.Latex object>"
      ]
     },
     "metadata": {},
     "output_type": "display_data"
    },
    {
     "data": {
      "text/latex": [
       "$|A \\cap B|$ = 6"
      ],
      "text/plain": [
       "<IPython.core.display.Latex object>"
      ]
     },
     "metadata": {},
     "output_type": "display_data"
    },
    {
     "data": {
      "text/latex": [
       "$|A|+|B| - |A \\cap B|$ = 6"
      ],
      "text/plain": [
       "<IPython.core.display.Latex object>"
      ]
     },
     "metadata": {},
     "output_type": "display_data"
    },
    {
     "data": {
      "text/latex": [
       "$|A \\cup B| = |A|+|B|-|A \\cap B|$: True"
      ],
      "text/plain": [
       "<IPython.core.display.Latex object>"
      ]
     },
     "metadata": {},
     "output_type": "display_data"
    }
   ],
   "source": [
    "#### Pythonic Solution\n",
    "\n",
    "#C\n",
    "\n",
    "def prove_identity():\n",
    "    A = {1, 2, 3, 4, 5, 6}\n",
    "    B = {5, 6, 7, 8, 9, 10}\n",
    "    var = len(A)|len(B)\n",
    "    var1 = len(A)+len(B)\n",
    "    var2 = len(A)&len(B)\n",
    "    var3 = var1 - var2\n",
    "    \n",
    "    display(Latex('$|A \\cup B|$ = ' + str(var)))\n",
    "    display(Latex('$|A|+|B|$ = ' + str(var1)))\n",
    "    display(Latex('$|A \\cap B|$ = ' + str(var2)))\n",
    "    display(Latex('$|A|+|B| - |A \\cap B|$ = ' + str(var3)))\n",
    "    \n",
    "    display(Latex('$|A \\cup B| = |A|+|B|-|A \\cap B|$: ' + str(var3 == var3)))\n",
    "\n",
    "\n",
    "prove_identity()"
   ]
  },
  {
   "cell_type": "markdown",
   "id": "b9e77798-00f0-4f7d-8579-c8344052875a",
   "metadata": {},
   "source": [
    "<div style=\"text-align: center; font-size: 30px; font-weight: bold; color: blue;\">Sets and Subsets</div>\n"
   ]
  },
  {
   "cell_type": "markdown",
   "id": "0fa1b3ac-6aa7-4a7d-a51c-a625f75eed5f",
   "metadata": {},
   "source": [
    "\n",
    "1. If A = {2,3,4,5}, and B = {$x \\in \\mathbb{N} | x \\ is \\ even$}. Is A $\\subset$ B? Show a proof.\n",
    "2. Let sets $\\textbf{A} = \\{x|x \\in \\mathbb{Z}, 0 \\leq x \\leq 9\\},\n",
    "\\textbf{B} = \\{ 2,4,6,8\\},\n",
    "\\ and \\ \n",
    "\\textbf{C}  = \\{ 1,3,5,7,9\\}\n",
    "\\ and \\ \\textbf{D}  = \\{ 3,4,5\\}$\n",
    "Find a set $\\textbf{X}$ which will satisfy the following conditions:\n",
    "\n",
    "    1.1 $\\textbf{X} \\ and \\ \\textbf{B}$ are disjoint.\n",
    "   \n",
    "    2.2 $\\textbf{X} \\subseteq \\textbf{D}$ but $\\textbf{X} \\nsubseteq \\textbf{B}$.\n",
    "   \n",
    "    2.3 $\\textbf{X} \\subseteq \\textbf{A}$ but $\\textbf{X} \\not\\subset \\textbf{C}$."
   ]
  },
  {
   "cell_type": "code",
   "execution_count": 101,
   "id": "d16a2e47-1e76-47f3-be1a-308b57fcda19",
   "metadata": {},
   "outputs": [
    {
     "data": {
      "text/latex": [
       "$A$={2, 3, 4, 5}"
      ],
      "text/plain": [
       "<IPython.core.display.Latex object>"
      ]
     },
     "metadata": {},
     "output_type": "display_data"
    },
    {
     "data": {
      "text/latex": [
       "$B$={2, 4, 6, 8, 10, 12, '...'}"
      ],
      "text/plain": [
       "<IPython.core.display.Latex object>"
      ]
     },
     "metadata": {},
     "output_type": "display_data"
    },
    {
     "data": {
      "text/latex": [
       "$A \\subset B$: False"
      ],
      "text/plain": [
       "<IPython.core.display.Latex object>"
      ]
     },
     "metadata": {},
     "output_type": "display_data"
    },
    {
     "data": {
      "image/png": "[encoded data removed]",
      "text/plain": [
       "<Figure size 640x480 with 1 Axes>"
      ]
     },
     "metadata": {},
     "output_type": "display_data"
    }
   ],
   "source": [
    "1. #Pythonic Solution\n",
    "A= {2,3,4,5}\n",
    "B= {2, 4, 6, 8, 10, 12, '...'}\n",
    "\n",
    "display(Latex('$A$='+ str(A)))\n",
    "display(Latex('$B$=' + str(B)))\n",
    "display(Latex('$A \\subset B$: ' + str(A<B) ))\n",
    "drawVenn2(A,B, labels=('A', 'B'))"
   ]
  },
  {
   "cell_type": "code",
   "execution_count": 107,
   "id": "33506d3a-a5c6-4290-a626-b6cf209720c4",
   "metadata": {},
   "outputs": [
    {
     "data": {
      "text/latex": [
       "$A$ = {$x|x \\in \\mathbb{Z}, 0 \\leq x \\leq 9$}"
      ],
      "text/plain": [
       "<IPython.core.display.Latex object>"
      ]
     },
     "metadata": {},
     "output_type": "display_data"
    },
    {
     "data": {
      "text/latex": [
       "$A$ = {0, 1, 2, 3, 4, 5, 6, 7, 8, 9}"
      ],
      "text/plain": [
       "<IPython.core.display.Latex object>"
      ]
     },
     "metadata": {},
     "output_type": "display_data"
    },
    {
     "data": {
      "text/latex": [
       "$B$ = {8, 2, 4, 6}"
      ],
      "text/plain": [
       "<IPython.core.display.Latex object>"
      ]
     },
     "metadata": {},
     "output_type": "display_data"
    },
    {
     "data": {
      "text/latex": [
       "$X$ = {0, 1, 2, 3, 4, 5, 6, 7, 8, 9}$\\;-\\;${8, 2, 4, 6}"
      ],
      "text/plain": [
       "<IPython.core.display.Latex object>"
      ]
     },
     "metadata": {},
     "output_type": "display_data"
    },
    {
     "data": {
      "text/latex": [
       "$X$ = {0, 1, 3, 5, 7, 9}"
      ],
      "text/plain": [
       "<IPython.core.display.Latex object>"
      ]
     },
     "metadata": {},
     "output_type": "display_data"
    },
    {
     "data": {
      "text/latex": [
       "$X\\; \\emptyset\\; B$: "
      ],
      "text/plain": [
       "<IPython.core.display.Latex object>"
      ]
     },
     "metadata": {},
     "output_type": "display_data"
    },
    {
     "data": {
      "image/png": "[encoded data removed]",
      "text/plain": [
       "<Figure size 640x480 with 1 Axes>"
      ]
     },
     "metadata": {},
     "output_type": "display_data"
    }
   ],
   "source": [
    "2.1 # Pythonic Solution\n",
    "\n",
    "\n",
    "A = {0, 1, 2, 3, 4, 5, 6, 7, 8,9}\n",
    "B = {8, 6, 4, 2}\n",
    "X = A - B\n",
    "\n",
    "display(Latex('$A$ = {$x|x \\in \\mathbb{Z}, 0 \\leq x \\leq 9$}'))\n",
    "display(Latex('$A$ = ' + str(A)))\n",
    "display(Latex('$B$ = ' + str(B)))\n",
    "display(Latex('$X$ = ' + str(A) + str('$\\;-\\;$') + str(B)))\n",
    "display(Latex('$X$ = ' + str(X)))\n",
    "\n",
    "display(Latex('$X\\; \\emptyset\\; B$: '))\n",
    "\n",
    "drawVenn2(X, B, labels =('X', 'B'))"
   ]
  },
  {
   "cell_type": "code",
   "execution_count": 118,
   "id": "53be6698-4481-4085-b223-df8a86313e72",
   "metadata": {},
   "outputs": [
    {
     "data": {
      "text/latex": [
       "$D$ = {3, 4, 5}"
      ],
      "text/plain": [
       "<IPython.core.display.Latex object>"
      ]
     },
     "metadata": {},
     "output_type": "display_data"
    },
    {
     "data": {
      "text/latex": [
       "$B$ = {8, 2, 4, 6}"
      ],
      "text/plain": [
       "<IPython.core.display.Latex object>"
      ]
     },
     "metadata": {},
     "output_type": "display_data"
    },
    {
     "data": {
      "text/latex": [
       "$X$ = {3, 4, 5} $-$ {8, 2, 4, 6}"
      ],
      "text/plain": [
       "<IPython.core.display.Latex object>"
      ]
     },
     "metadata": {},
     "output_type": "display_data"
    },
    {
     "data": {
      "text/latex": [
       "$X$ = {3, 5}"
      ],
      "text/plain": [
       "<IPython.core.display.Latex object>"
      ]
     },
     "metadata": {},
     "output_type": "display_data"
    },
    {
     "data": {
      "text/latex": [
       "$X \\subseteq D \\land X \\nsubseteq B$ : True"
      ],
      "text/plain": [
       "<IPython.core.display.Latex object>"
      ]
     },
     "metadata": {},
     "output_type": "display_data"
    },
    {
     "data": {
      "image/png": "[encoded data removed]",
      "text/plain": [
       "<Figure size 640x480 with 1 Axes>"
      ]
     },
     "metadata": {},
     "output_type": "display_data"
    }
   ],
   "source": [
    "2.2 #Pythonic Solution\n",
    "D = {3, 4, 5}\n",
    "B = {2, 4, 6, 8}\n",
    "X = D - B\n",
    "\n",
    "display(Latex('$D$ = ' + str(D)))\n",
    "display(Latex('$B$ = ' + str(B)))\n",
    "display(Latex('$X$ = ' + str(D) + str(' $-$ ') + str(B)))\n",
    "display(Latex('$X$ = ' + str(X)))\n",
    "\n",
    "drawVenn3(D, B, X, labels = ('D', 'B', 'X'))\n",
    "\n",
    "display(Latex('$X \\subseteq D \\land X \\\\nsubseteq B$ : ' + str(X.issubset(D))))\n"
   ]
  },
  {
   "cell_type": "code",
   "execution_count": 117,
   "id": "de1799e7-32f1-4413-bc0f-ba1bfe918ea8",
   "metadata": {},
   "outputs": [
    {
     "data": {
      "text/latex": [
       "$A$ = {0, 1, 2, 3, 4, 5, 6, 7, 8, 9}"
      ],
      "text/plain": [
       "<IPython.core.display.Latex object>"
      ]
     },
     "metadata": {},
     "output_type": "display_data"
    },
    {
     "data": {
      "text/latex": [
       "$C$ = {3, 4, 5}"
      ],
      "text/plain": [
       "<IPython.core.display.Latex object>"
      ]
     },
     "metadata": {},
     "output_type": "display_data"
    },
    {
     "data": {
      "text/latex": [
       "$X$ = {0, 1, 2, 3, 4, 5, 6, 7, 8, 9}$\\;-\\;${3, 4, 5}"
      ],
      "text/plain": [
       "<IPython.core.display.Latex object>"
      ]
     },
     "metadata": {},
     "output_type": "display_data"
    },
    {
     "data": {
      "text/latex": [
       "$X$ = {0, 1, 2, 6, 7, 8, 9}"
      ],
      "text/plain": [
       "<IPython.core.display.Latex object>"
      ]
     },
     "metadata": {},
     "output_type": "display_data"
    },
    {
     "data": {
      "text/latex": [
       "$X \\subseteq A\\; \\land \\nsubseteq C$ : True"
      ],
      "text/plain": [
       "<IPython.core.display.Latex object>"
      ]
     },
     "metadata": {},
     "output_type": "display_data"
    },
    {
     "data": {
      "image/png": "[encoded data removed]",
      "text/plain": [
       "<Figure size 640x480 with 1 Axes>"
      ]
     },
     "metadata": {},
     "output_type": "display_data"
    }
   ],
   "source": [
    "2.3 #Pythonic Solution\n",
    "#### Pythonic solution\n",
    "\n",
    "#3. X is a subseteq of A but not a subseteq of C.\n",
    "\n",
    "A = {0, 1, 2, 3, 4, 5, 6, 7, 8, 9}\n",
    "C = {3, 4, 5}\n",
    "X = A - C\n",
    "\n",
    "display(Latex('$A$ = ' + str(A)))\n",
    "display(Latex('$C$ = ' + str(C)))\n",
    "display(Latex('$X$ = ' + str(A) + str('$\\;-\\;$') + str(C)))\n",
    "display(Latex('$X$ = ' + str(X)))\n",
    "\n",
    "drawVenn3(A, C, X, labels = ('A', 'C', 'X'))\n",
    "\n",
    "display(Latex('$X \\subseteq A\\; \\land \\\\nsubseteq C$ : ' + str(X.issubset(A))))"
   ]
  },
  {
   "cell_type": "markdown",
   "id": "33ee91aa-e5d1-4cf1-8357-745e916407dd",
   "metadata": {},
   "source": [
    "<div style=\"text-align: center; font-size: 30px; font-weight: bold; color: blue;\">Set Operations</div>\n"
   ]
  },
  {
   "cell_type": "markdown",
   "id": "92d1ff27-c28f-4098-9304-0fbc2d06573d",
   "metadata": {},
   "source": [
    "###### 1. First solve the problems manually, use Latex programming to show your manual solutions.\n",
    "###### 2. Second, solve the problem using python. Show your codes for the pythonic solutions.\n",
    "###### Hint: You know your solutions is right if your manual solution is equivalent to your pythonic solution.\n",
    "\n",
    "Given:<br>\n",
    "$\\textbf{U} = \\{1,2,3,4,5\\}$<br>\n",
    "$\\textbf{A} = \\{1,2,3,4,5\\}$<br>\n",
    "$\\textbf{B} = \\{4,5,6,7\\}$<br>\n",
    "$\\textbf{C} = \\{5,6,7,8,9\\}$<br>\n",
    "$\\textbf{D} = \\{1,3,5,7,9\\}$<br>\n",
    "$\\textbf{E} = \\{2,4,6,8\\}$<br>\n",
    "$\\textbf{F} = \\{1,5,9\\}$<br>\n",
    "1.  $\\textbf{C} \\oplus \\textbf{D}$\n",
    "2.  $\\textbf{A} \\backslash \\textbf{B}$\n",
    "3.  $\\textbf{B} \\backslash \\textbf{A}$\n",
    "4.  $\\textbf{E} \\oplus \\textbf{F}$"
   ]
  },
  {
   "cell_type": "markdown",
   "id": "4395a328-5866-47fe-8764-dbea7ab5b5f1",
   "metadata": {},
   "source": [
    "<div style=\"text-align: left; font-size: 15px; font-weight: bold; color: Green;\">$1.$ $Manual$ $Solution$ (C $\\oplus$ D)</div>\n"
   ]
  },
  {
   "cell_type": "code",
   "execution_count": 16,
   "id": "8bdd31b4-f5eb-4398-9fd2-8d7620c68795",
   "metadata": {},
   "outputs": [
    {
     "data": {
      "text/latex": [
       "$C \\oplus D$"
      ],
      "text/plain": [
       "<IPython.core.display.Latex object>"
      ]
     },
     "metadata": {},
     "output_type": "display_data"
    },
    {
     "data": {
      "text/latex": [
       "$C$ = {5, 6, 7, 8, 9}"
      ],
      "text/plain": [
       "<IPython.core.display.Latex object>"
      ]
     },
     "metadata": {},
     "output_type": "display_data"
    },
    {
     "data": {
      "text/latex": [
       "$D$ = {1, 3, 5, 7, 9}"
      ],
      "text/plain": [
       "<IPython.core.display.Latex object>"
      ]
     },
     "metadata": {},
     "output_type": "display_data"
    },
    {
     "data": {
      "text/latex": [
       "$C \\oplus D$ = $C \\cup B - (C \\cap D)$"
      ],
      "text/plain": [
       "<IPython.core.display.Latex object>"
      ]
     },
     "metadata": {},
     "output_type": "display_data"
    },
    {
     "data": {
      "text/latex": [
       "$C \\cup D$ : {5, 6, 7, 8, 9} + {1, 3, 5, 7, 9} = {1, 3, 5, 6, 7, 8, 9}"
      ],
      "text/plain": [
       "<IPython.core.display.Latex object>"
      ]
     },
     "metadata": {},
     "output_type": "display_data"
    },
    {
     "data": {
      "text/latex": [
       "$C \\cap D$ : {5, 6, 7, 8, 9} - {1, 3, 5, 7, 9} = {9, 5, 7}"
      ],
      "text/plain": [
       "<IPython.core.display.Latex object>"
      ]
     },
     "metadata": {},
     "output_type": "display_data"
    },
    {
     "data": {
      "text/latex": [
       "$C \\oplus D$ : {1, 3, 5, 6, 7, 8, 9} - {9, 5, 7} = {8, 1, 3, 6}"
      ],
      "text/plain": [
       "<IPython.core.display.Latex object>"
      ]
     },
     "metadata": {},
     "output_type": "display_data"
    }
   ],
   "source": [
    "C = {5, 6, 7, 8, 9}\n",
    "D = {1, 3, 5, 7, 9}\n",
    "var1 = C|D\n",
    "var2 = C&D\n",
    "\n",
    "display(Latex('$C \\oplus D$'))\n",
    "display(Latex('$C$ = ' + str(C)))\n",
    "display(Latex('$D$ = ' + str(D)))\n",
    "display(Latex('$C \\oplus D$ = $C \\cup B - (C \\cap D)$'))\n",
    "display(Latex('$C \\cup D$ : ' + str(C) + str(' + ') + str(D) + str(' = ') + str(var1)))\n",
    "display(Latex('$C \\cap D$ : ' + str(C) + str(' - ') + str(D) + str(' = ') + str(var2)))\n",
    "display(Latex('$C \\oplus D$ : ' +str(var1) + str(' - ') + str(var2) + str(' = ') + str(var1-var2)))"
   ]
  },
  {
   "cell_type": "markdown",
   "id": "e74a501a-3c9a-4ccd-8d70-38d9e58faede",
   "metadata": {},
   "source": [
    "<div style=\"text-align: left; font-size: 15px; font-weight: bold; color: Green;\">$1.$ $Pythonic$ $Solution$ (C $\\oplus$ D)</div>\n"
   ]
  },
  {
   "cell_type": "code",
   "execution_count": 15,
   "id": "c197ade6-a3bf-4118-9ca2-9133e8a5e219",
   "metadata": {},
   "outputs": [
    {
     "data": {
      "text/latex": [
       "$C \\oplus D$"
      ],
      "text/plain": [
       "<IPython.core.display.Latex object>"
      ]
     },
     "metadata": {},
     "output_type": "display_data"
    },
    {
     "data": {
      "text/latex": [
       "$C$ ={5, 6, 7, 8, 9}"
      ],
      "text/plain": [
       "<IPython.core.display.Latex object>"
      ]
     },
     "metadata": {},
     "output_type": "display_data"
    },
    {
     "data": {
      "text/latex": [
       "$D$ ={1, 3, 5, 7, 9}"
      ],
      "text/plain": [
       "<IPython.core.display.Latex object>"
      ]
     },
     "metadata": {},
     "output_type": "display_data"
    },
    {
     "data": {
      "text/latex": [
       "$C \\cup D$: {1, 3, 5, 6, 7, 8, 9}"
      ],
      "text/plain": [
       "<IPython.core.display.Latex object>"
      ]
     },
     "metadata": {},
     "output_type": "display_data"
    },
    {
     "data": {
      "text/latex": [
       "$C \\cap D$: {9, 5, 7}"
      ],
      "text/plain": [
       "<IPython.core.display.Latex object>"
      ]
     },
     "metadata": {},
     "output_type": "display_data"
    },
    {
     "data": {
      "text/latex": [
       "$C \\oplus D$ = {8, 1, 3, 6}"
      ],
      "text/plain": [
       "<IPython.core.display.Latex object>"
      ]
     },
     "metadata": {},
     "output_type": "display_data"
    }
   ],
   "source": [
    "C = {5, 6, 7, 8, 9}\n",
    "D = {1, 3, 5, 7, 9}\n",
    "var1 = C.union(D)\n",
    "var2 = C.intersection(D)\n",
    "var3 = var1.difference(var2)\n",
    "\n",
    "display(Latex('$C \\oplus D$'))\n",
    "display(Latex('$C$ =' + str(C)))\n",
    "display(Latex('$D$ =' + str(D)))\n",
    "display(Latex('$C \\cup D$: ' + str(var1)))\n",
    "display(Latex('$C \\cap D$: ' + str(var2)))\n",
    "display(Latex('$C \\oplus D$ = ' + str(var3)))"
   ]
  },
  {
   "cell_type": "markdown",
   "id": "06f3f93c-de08-48df-a145-c8c8596ebf9c",
   "metadata": {},
   "source": [
    "<div style=\"text-align: left; font-size: 15px; font-weight: bold; color: Green;\">$2.$ $Manual$ $Solution$ (A $\\setminus$ B)</div>\n"
   ]
  },
  {
   "cell_type": "code",
   "execution_count": 24,
   "id": "d2f65f94-5b1e-4968-a4b1-a4dadd34377f",
   "metadata": {},
   "outputs": [
    {
     "data": {
      "text/latex": [
       "$A$ = {1, 2, 3, 4, 5}"
      ],
      "text/plain": [
       "<IPython.core.display.Latex object>"
      ]
     },
     "metadata": {},
     "output_type": "display_data"
    },
    {
     "data": {
      "text/latex": [
       "$B$ = {4, 5, 6, 7}"
      ],
      "text/plain": [
       "<IPython.core.display.Latex object>"
      ]
     },
     "metadata": {},
     "output_type": "display_data"
    },
    {
     "data": {
      "text/latex": [
       "$A - B$ : {4, 5, 6, 7} - {1, 2, 3, 4, 5} = {1, 2, 3}"
      ],
      "text/plain": [
       "<IPython.core.display.Latex object>"
      ]
     },
     "metadata": {},
     "output_type": "display_data"
    },
    {
     "data": {
      "text/latex": [
       "$B\\A$ : {1, 2, 3}"
      ],
      "text/plain": [
       "<IPython.core.display.Latex object>"
      ]
     },
     "metadata": {},
     "output_type": "display_data"
    }
   ],
   "source": [
    "A = {1,2,3,4,5,}\n",
    "B = {4,5,6,7}\n",
    "var1 = A - B\n",
    "\n",
    "display(Latex('$A$ = ' + str(A)))\n",
    "display(Latex('$B$ = ' + str(B)))\n",
    "display(Latex('$A - B$ : ' + str(B) + str(' - ') + str(A) + str(' = ') + str(var1)))\n",
    "display(Latex('$B\\\\A$ : ' +str(var1)))"
   ]
  },
  {
   "cell_type": "markdown",
   "id": "afb1e63b-d056-4346-b56a-1d0e6fd3981e",
   "metadata": {},
   "source": [
    "<div style=\"text-align: left; font-size: 15px; font-weight: bold; color: Green;\">$2.$ $Pythonic$ $Solution$ (A $\\setminus$ B)</div>\n"
   ]
  },
  {
   "cell_type": "code",
   "execution_count": 26,
   "id": "8c9ebdfb-30b0-403c-b3cf-b03408b6bbb1",
   "metadata": {},
   "outputs": [
    {
     "data": {
      "text/latex": [
       "$A\\B$"
      ],
      "text/plain": [
       "<IPython.core.display.Latex object>"
      ]
     },
     "metadata": {},
     "output_type": "display_data"
    },
    {
     "data": {
      "text/latex": [
       "A = {1, 2, 3, 4, 5}"
      ],
      "text/plain": [
       "<IPython.core.display.Latex object>"
      ]
     },
     "metadata": {},
     "output_type": "display_data"
    },
    {
     "data": {
      "text/latex": [
       "B = {4, 5, 6, 7}"
      ],
      "text/plain": [
       "<IPython.core.display.Latex object>"
      ]
     },
     "metadata": {},
     "output_type": "display_data"
    },
    {
     "data": {
      "text/latex": [
       "$A\\B$ : {1, 2, 3}"
      ],
      "text/plain": [
       "<IPython.core.display.Latex object>"
      ]
     },
     "metadata": {},
     "output_type": "display_data"
    }
   ],
   "source": [
    "A = {1, 2, 3, 4, 5}\n",
    "B = {4, 5, 6, 7}\n",
    "\n",
    "display(Latex('$A\\\\B$'))\n",
    "display(Latex('A = ' + str(A)))\n",
    "display(Latex('B = ' + str(B)))\n",
    "display(Latex('$A\\\\B$ : ' +str(A-B)))"
   ]
  },
  {
   "cell_type": "markdown",
   "id": "91842c37-ef27-48ec-929d-bc9a700435df",
   "metadata": {},
   "source": [
    "<div style=\"text-align: left; font-size: 15px; font-weight: bold; color: Green;\">$3.$ $Manual$ $Solution$ (B $\\setminus$ A)</div>\n"
   ]
  },
  {
   "cell_type": "code",
   "execution_count": 22,
   "id": "844174e4-dc8a-41e0-b0d9-d0d09aae22d8",
   "metadata": {},
   "outputs": [
    {
     "data": {
      "text/latex": [
       "$A$ = {1, 2, 3, 4, 5}"
      ],
      "text/plain": [
       "<IPython.core.display.Latex object>"
      ]
     },
     "metadata": {},
     "output_type": "display_data"
    },
    {
     "data": {
      "text/latex": [
       "$B$ = {4, 5, 6, 7}"
      ],
      "text/plain": [
       "<IPython.core.display.Latex object>"
      ]
     },
     "metadata": {},
     "output_type": "display_data"
    },
    {
     "data": {
      "text/latex": [
       "$B - A$ : {4, 5, 6, 7} - {1, 2, 3, 4, 5} = {6, 7}"
      ],
      "text/plain": [
       "<IPython.core.display.Latex object>"
      ]
     },
     "metadata": {},
     "output_type": "display_data"
    },
    {
     "data": {
      "text/latex": [
       "$B\\A$ : {6, 7}"
      ],
      "text/plain": [
       "<IPython.core.display.Latex object>"
      ]
     },
     "metadata": {},
     "output_type": "display_data"
    }
   ],
   "source": [
    "A = {1,2,3,4,5,}\n",
    "B = {4,5,6,7}\n",
    "var1 = B - A\n",
    "\n",
    "display(Latex('$A$ = ' + str(A)))\n",
    "display(Latex('$B$ = ' + str(B)))\n",
    "display(Latex('$B - A$ : ' + str(B) + str(' - ') + str(A) + str(' = ') + str(var1)))\n",
    "display(Latex('$B\\\\A$ : ' +str(var1)))"
   ]
  },
  {
   "cell_type": "markdown",
   "id": "b4051731-ee5b-4067-9d57-a802ece2dad5",
   "metadata": {},
   "source": [
    "<div style=\"text-align: left; font-size: 15px; font-weight: bold; color: Green;\">$3.$ $Pythonic$ $Solution$ (B $\\setminus$ A)</div>\n"
   ]
  },
  {
   "cell_type": "code",
   "execution_count": 28,
   "id": "5514fd10-ab12-429d-8c8a-e71d432d61ab",
   "metadata": {},
   "outputs": [
    {
     "data": {
      "text/latex": [
       "$B\\A$"
      ],
      "text/plain": [
       "<IPython.core.display.Latex object>"
      ]
     },
     "metadata": {},
     "output_type": "display_data"
    },
    {
     "data": {
      "text/latex": [
       "A = {1, 2, 3, 4, 5}"
      ],
      "text/plain": [
       "<IPython.core.display.Latex object>"
      ]
     },
     "metadata": {},
     "output_type": "display_data"
    },
    {
     "data": {
      "text/latex": [
       "B = {4, 5, 6, 7}"
      ],
      "text/plain": [
       "<IPython.core.display.Latex object>"
      ]
     },
     "metadata": {},
     "output_type": "display_data"
    },
    {
     "data": {
      "text/latex": [
       "$B\\A$ : {6, 7}"
      ],
      "text/plain": [
       "<IPython.core.display.Latex object>"
      ]
     },
     "metadata": {},
     "output_type": "display_data"
    }
   ],
   "source": [
    "A = {1, 2, 3, 4, 5}\n",
    "B = {4, 5, 6, 7}\n",
    "\n",
    "display(Latex('$B\\\\A$'))\n",
    "display(Latex('A = ' + str(A)))\n",
    "display(Latex('B = ' + str(B)))\n",
    "display(Latex('$B\\\\A$ : ' +str(B-A)))"
   ]
  },
  {
   "cell_type": "markdown",
   "id": "d602822a-609f-4302-9364-dcc2e043a030",
   "metadata": {},
   "source": [
    "<div style=\"text-align: left; font-size: 15px; font-weight: bold; color: Green;\">$4.$ $Manual$ $Solution$ (E $\\oplus F$)</div>\n"
   ]
  },
  {
   "cell_type": "code",
   "execution_count": 50,
   "id": "b538f4f5-cbaa-487c-a81d-34de55f4dad2",
   "metadata": {},
   "outputs": [
    {
     "data": {
      "text/latex": [
       "E = {8, 2, 4, 6}"
      ],
      "text/plain": [
       "<IPython.core.display.Latex object>"
      ]
     },
     "metadata": {},
     "output_type": "display_data"
    },
    {
     "data": {
      "text/latex": [
       "F = {1, 5, 9}"
      ],
      "text/plain": [
       "<IPython.core.display.Latex object>"
      ]
     },
     "metadata": {},
     "output_type": "display_data"
    },
    {
     "data": {
      "text/latex": [
       "$E \\oplus F$ = $E \\cup F - (E \\cap F)$"
      ],
      "text/plain": [
       "<IPython.core.display.Latex object>"
      ]
     },
     "metadata": {},
     "output_type": "display_data"
    },
    {
     "data": {
      "text/latex": [
       "$E \\cup F$ : {8, 2, 4, 6} + {1, 5, 9} = {1, 2, 4, 5, 6, 8, 9}"
      ],
      "text/plain": [
       "<IPython.core.display.Latex object>"
      ]
     },
     "metadata": {},
     "output_type": "display_data"
    },
    {
     "data": {
      "text/latex": [
       "$E \\cap F$ : {8, 2, 4, 6} - {1, 5, 9} = $\\emptyset$"
      ],
      "text/plain": [
       "<IPython.core.display.Latex object>"
      ]
     },
     "metadata": {},
     "output_type": "display_data"
    },
    {
     "data": {
      "text/latex": [
       "$E \\oplus F$ : {1, 2, 4, 5, 6, 8, 9} - $\\emptyset$ = {1, 2, 4, 5, 6, 8, 9}"
      ],
      "text/plain": [
       "<IPython.core.display.Latex object>"
      ]
     },
     "metadata": {},
     "output_type": "display_data"
    }
   ],
   "source": [
    "E = {2, 4, 6, 8}\n",
    "F = {1, 5, 9}\n",
    "var1 = E|F\n",
    "var2 = E&F\n",
    "var3 = ('$\\emptyset$')\n",
    "\n",
    "display(Latex('E = ' + str(E)))\n",
    "display(Latex('F = ' + str(F)))\n",
    "display(Latex('$E \\oplus F$ = $E \\cup F - (E \\cap F)$'))\n",
    "display(Latex('$E \\cup F$ : ' + str(E) + str(' + ') + str(F) + str(' = ') + str(var1)))\n",
    "display(Latex('$E \\cap F$ : ' + str(E) + str(' - ') + str(F) + str(' = ') + str(var3)))\n",
    "display(Latex('$E \\oplus F$ : ' +str(var1) + str(' - ') + str(var3) + str(' = ') + str(var1-var2)))"
   ]
  },
  {
   "cell_type": "markdown",
   "id": "41d1b82c-60e0-436c-b808-6540a09f9d6a",
   "metadata": {},
   "source": [
    "<div style=\"text-align: left; font-size: 15px; font-weight: bold; color: Green;\">$4.$ $Pythonic$ $Solution$ (E $\\oplus F$)</div>\n"
   ]
  },
  {
   "cell_type": "code",
   "execution_count": 51,
   "id": "b09b0fa8-7ae1-4fe0-a61b-fece8cb87f72",
   "metadata": {},
   "outputs": [
    {
     "data": {
      "text/latex": [
       "$E$ ={8, 2, 4, 6}"
      ],
      "text/plain": [
       "<IPython.core.display.Latex object>"
      ]
     },
     "metadata": {},
     "output_type": "display_data"
    },
    {
     "data": {
      "text/latex": [
       "$F$ ={1, 5, 9}"
      ],
      "text/plain": [
       "<IPython.core.display.Latex object>"
      ]
     },
     "metadata": {},
     "output_type": "display_data"
    },
    {
     "data": {
      "text/latex": [
       "$E \\oplus F$ = $E \\cup F - (E \\cap F)$"
      ],
      "text/plain": [
       "<IPython.core.display.Latex object>"
      ]
     },
     "metadata": {},
     "output_type": "display_data"
    },
    {
     "data": {
      "text/latex": [
       "$E \\cup F$: {1, 2, 4, 5, 6, 8, 9}"
      ],
      "text/plain": [
       "<IPython.core.display.Latex object>"
      ]
     },
     "metadata": {},
     "output_type": "display_data"
    },
    {
     "data": {
      "text/latex": [
       "$E \\cap F$: $\\emptyset$"
      ],
      "text/plain": [
       "<IPython.core.display.Latex object>"
      ]
     },
     "metadata": {},
     "output_type": "display_data"
    },
    {
     "data": {
      "text/latex": [
       "$E \\oplus F$ = {1, 2, 4, 5, 6, 8, 9}"
      ],
      "text/plain": [
       "<IPython.core.display.Latex object>"
      ]
     },
     "metadata": {},
     "output_type": "display_data"
    }
   ],
   "source": [
    "\n",
    "E = {2, 4, 6, 8}\n",
    "F = {1, 5, 9}\n",
    "var1 = E.union(F)\n",
    "var2 = E.intersection(F)\n",
    "var3 = var1.difference(var2)\n",
    "\n",
    "display(Latex('$E$ =' + str(E)))\n",
    "display(Latex('$F$ =' + str(F)))\n",
    "display(Latex('$E \\oplus F$ = $E \\cup F - (E \\cap F)$'))\n",
    "display(Latex('$E \\cup F$: ' + str(var1)))\n",
    "display(Latex('$E \\cap F$: ' + ('$\\emptyset$')))\n",
    "display(Latex('$E \\oplus F$ = ' + str(var3)))"
   ]
  },
  {
   "cell_type": "markdown",
   "id": "7bca019a-e83e-47a9-8f9c-aee4b89759f5",
   "metadata": {},
   "source": [
    "<div style=\"text-align: center; font-size: 30px; font-weight: bold; color: blue;\">Finite Sets and Counting Principles</div>\n"
   ]
  },
  {
   "cell_type": "markdown",
   "id": "526fc9f6-3e9d-44dd-907b-a9a89f8e9ea9",
   "metadata": {},
   "source": [
    "In a Survey of 120 People, it was found that:\n",
    "- 65 read Newsweek Magazine\n",
    "- 45 read Times Magazine\n",
    "- 42 read Fortune Magazine\n",
    "- 20 read Both Newsweek and Time\n",
    "- 25 read both Newsweek and Fortune\n",
    "- 15 read both Time and Fortune\n",
    "- 8 read all three magazines\n",
    "With these information do the following:<br>\n",
    "1. Draw the venn diagram using python.\n",
    "2. Find the number of people who read at $\\textbf{\"least one\"}$ of the three magazines.\n",
    "3. Find the number of people who read exactly one magazine.\n",
    "<br>\n",
    "<br>"
   ]
  },
  {
   "cell_type": "code",
   "execution_count": 59,
   "id": "8db016a0-db44-4689-9aca-0358be8fb82a",
   "metadata": {},
   "outputs": [
    {
     "data": {
      "image/png": "[encoded data removed]",
      "text/plain": [
       "<Figure size 640x480 with 1 Axes>"
      ]
     },
     "metadata": {},
     "output_type": "display_data"
    },
    {
     "name": "stdout",
     "output_type": "stream",
     "text": [
      "Number of people who read at least one magazine: 100\n",
      "Number of people who read exactly one magazine: 56\n"
     ]
    }
   ],
   "source": [
    "venn3_unweighted(subsets = (28, 18, 20, 10, 15, 25, 8),\n",
    "                set_labels = ('Newsweek',\n",
    "                            'Time', 'Fortune'),\n",
    "                set_colors=(\"brown\",\n",
    "                            \"green\", \"red\"))\n",
    "plt.title ('Magazine Readers')\n",
    "plt.show()\n",
    "\n",
    "at_least_one = 28 + 18 + 17 + 8 + 12 + 7 + 10\n",
    "print(\"Number of people who read at least one magazine:\", at_least_one)\n",
    "\n",
    "exactly_one = 28 + 18 + 10\n",
    "print(\"Number of people who read exactly one magazine:\", exactly_one)"
   ]
  },
  {
   "cell_type": "markdown",
   "id": "22d33593-58b9-405a-8999-28f402f43f97",
   "metadata": {},
   "source": [
    "In a survey of 25 new cars being sold at a local auto dealer was conducted to see which of the three popular options: air-conditioning, denoted as A; radio, denoted as R; and power windows, denoted as W were installed. The survey found that:\n",
    "- 15 had A. HINT: The condition said $\\textbf{\"had an A\"}$  <font color='red'>$\\textbf{ AND NOT}$ <font color='black'>$\\textbf{\"had an A only\"}$\n",
    "- 12 had R. HINT: The condition said $\\textbf{\"had a R\"}$  <font color='red'>$\\textbf{ AND NOT}$ <font color='black'>$\\textbf{\"had a R only\"}$\n",
    "- 11 had W. HINT: The condition said $\\textbf{\"had a W\"}$  <font color='red'>$\\textbf{ AND NOT}$ <font color='black'>$\\textbf{\"had a W only\"}$\n",
    "- 5 had A and W.\n",
    "- 9 had A and R.\n",
    "- 4 had R and W.\n",
    "- Only 3 hace the three options.\n",
    "With these information do the following:<br>\n",
    "1. Draw the venn diagram using python.<br>\n",
    "2. Find the number of cars with W only.<br>\n",
    "3. Find the number of cars with A only.<br>\n",
    "4. Find the number of cars with R only.<br>\n",
    "5. Find the number of cars with both R and W but not A.<br>\n",
    "6. Find the number of cars with both A and R but not W.<br>\n",
    "7. Find the number of cars with only one of the options.<br>\n",
    "8. Find the number of cars with at least one option.<br>\n",
    "9. Find the number of cars with none of the Options.<br>"
   ]
  },
  {
   "cell_type": "code",
   "execution_count": 85,
   "id": "a80f91dc-ee43-4fc7-bb08-d109fd6fe463",
   "metadata": {},
   "outputs": [
    {
     "data": {
      "image/png": "[encoded data removed]",
      "text/plain": [
       "<Figure size 640x480 with 1 Axes>"
      ]
     },
     "metadata": {},
     "output_type": "display_data"
    },
    {
     "data": {
      "text/latex": [
       "Number of cars with only one of the options: 11"
      ],
      "text/plain": [
       "<IPython.core.display.Latex object>"
      ]
     },
     "metadata": {},
     "output_type": "display_data"
    },
    {
     "data": {
      "text/latex": [
       "Number of cars with at least one of the option: 18"
      ],
      "text/plain": [
       "<IPython.core.display.Latex object>"
      ]
     },
     "metadata": {},
     "output_type": "display_data"
    },
    {
     "data": {
      "text/latex": [
       "Number of cars with none of the options: 2"
      ],
      "text/plain": [
       "<IPython.core.display.Latex object>"
      ]
     },
     "metadata": {},
     "output_type": "display_data"
    }
   ],
   "source": [
    "venn3_unweighted(subsets = (4, 2, 6, 5, 2, 1, 3),\n",
    "                set_labels = ('A',\n",
    "                            'R', 'W'),\n",
    "                set_colors=(\"magenta\",\n",
    "                            \"pink\", \"violet\"))\n",
    "plt.title (\"Car Popuarity\")\n",
    "plt.show()\n",
    "\n",
    "num7 = 2 + 4 + 5\n",
    "display(Latex('Number of cars with only one of the options: ' + str(num7)))\n",
    "\n",
    "num8 = 4 + 6 + 2 + 2 + 3 + 1\n",
    "display(Latex('Number of cars with at least one of the option: ' + str(num8)))\n",
    "\n",
    "num9 = 25 - 23\n",
    "display(Latex('Number of cars with none of the options: ' + str(num9)))"
   ]
  },
  {
   "cell_type": "code",
   "execution_count": null,
   "id": "df208501-ef44-4bd0-b4b0-4db353560536",
   "metadata": {},
   "outputs": [],
   "source": []
  },
  {
   "cell_type": "code",
   "execution_count": null,
   "id": "87b1059d-1347-44be-b98d-a7a5cefb87c0",
   "metadata": {},
   "outputs": [],
   "source": []
  }
 ],
 "metadata": {
  "kernelspec": {
   "display_name": "Python 3 (ipykernel)",
   "language": "python",
   "name": "python3"
  },
  "language_info": {
   "codemirror_mode": {
    "name": "ipython",
    "version": 3
   },
   "file_extension": ".py",
   "mimetype": "text/x-python",
   "name": "python",
   "nbconvert_exporter": "python",
   "pygments_lexer": "ipython3",
   "version": "3.9.2"
  }
 },
 "nbformat": 4,
 "nbformat_minor": 5
}
